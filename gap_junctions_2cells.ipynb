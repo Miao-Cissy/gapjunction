{
 "cells": [
  {
   "cell_type": "markdown",
   "id": "50f6dbf8-8b4b-43d0-90af-5f367535cfd3",
   "metadata": {},
   "source": [
    "# Neurophysiology and Biophysics - Practical course 2022/23\n",
    "\n",
    "Cornelia Kopp-Scheinpflug, Kay Thurley\n",
    "\n",
    "\n",
    "__Miniproject: Gap junctions__\n",
    "\n",
    "\n",
    "In this notebook we investigate the emergence of oscillations in neurons coupled by gap junctions. For the simulations we use a model of rat hippocampal CA1 neuron and include axo-axonal electrical coupling (gap junctions).\n",
    "\n",
    "We use the model by Vladimirov et al. 2012 published on ModelDB. Converted to Python by Kay Thurley (2022).\n",
    "\n",
    "\n",
    "_Requirements:_ You will need Neuron 8, Python 3 and the packages Matplotlib for plotting and Numpy for mathematical functions and array handling.\n",
    "\n",
    "\n",
    "We start by importing the relevant packages."
   ]
  },
  {
   "cell_type": "code",
   "execution_count": 28,
   "id": "9eea9027-fb29-440f-bfbf-d18d2af99246",
   "metadata": {
    "tags": []
   },
   "outputs": [],
   "source": [
    "# import Neuron's hoc interpreter\n",
    "from neuron import h\n",
    "h.load_file('stdrun.hoc')\n",
    "\n",
    "# set default units\n",
    "from neuron.units import ms, mV\n",
    "\n",
    "import numpy as np\n",
    "\n",
    "# import matplotlib for plotting\n",
    "import matplotlib.pyplot as plt\n",
    "import matplotlib\n",
    "from matplotlib import gridspec"
   ]
  },
  {
   "cell_type": "markdown",
   "id": "3524baff-e07d-4c56-803d-5352c112e3c2",
   "metadata": {},
   "source": [
    "Then we define the model neuron by loading a morphology file and files with the relevant mechanisms."
   ]
  },
  {
   "cell_type": "code",
   "execution_count": 29,
   "id": "1e6c4baf-1f13-465b-a4eb-58c85d982ac2",
   "metadata": {},
   "outputs": [
    {
     "name": "stdout",
     "output_type": "stream",
     "text": [
      "pyramidal[4]\n",
      "pyramidal[5]\n"
     ]
    }
   ],
   "source": [
    "# load the morphology and cell biophysics\n",
    "h.load_file('cellTemplate.hoc')\n",
    "h.load_file('gapjunction.hoc')\n",
    "# h.load_file('init_2cells.hoc')\n",
    "\n",
    "# create pyramidal neurons\n",
    "dc_bias = -0.1\n",
    "ncells = 2\n",
    "cells = h.List()\n",
    "for i in range(ncells):\n",
    "    cell = h.pyramidal()\n",
    "    \n",
    "    # set position of the cell\n",
    "    x = (i+1)*1000.\n",
    "    y = (i+1)*0.\n",
    "    cell.position(x, y, 0)\n",
    "    cell.setgid(i)\n",
    "    \n",
    "    # add constant current to soma\n",
    "    # current is in nA, \"-\" for hyperpolarizing, \"+\" for depolarizing\n",
    "    area_soma = np.pi*cell.soma.diam*cell.soma.L*1e-8\n",
    "    cell.soma.insert('bias')\n",
    "    cell.soma(0.5).bias.amp = -dc_bias * 1e-6/area_soma\n",
    "    \n",
    "    cells.append(cell)\n",
    "\n",
    "# access the pyramidal neurons\n",
    "pyrA = cells[0]\n",
    "pyrB = cells[1]\n",
    "\n",
    "print(pyrA)\n",
    "print(pyrB)\n",
    "\n",
    "\n",
    "# simulation paramters\n",
    "h.tstop = 15\n",
    "h.dt = 0.025\n",
    "h.v_init = -65"
   ]
  },
  {
   "cell_type": "code",
   "execution_count": 30,
   "id": "19636e5d",
   "metadata": {},
   "outputs": [
    {
     "data": {
      "text/plain": [
       "1.0"
      ]
     },
     "execution_count": 30,
     "metadata": {},
     "output_type": "execute_result"
    }
   ],
   "source": [
    "h.load_file('my_connection.hoc')"
   ]
  },
  {
   "cell_type": "code",
   "execution_count": 31,
   "id": "6fed9955-0b93-497e-a946-c3229c4215e0",
   "metadata": {},
   "outputs": [],
   "source": [
    "# add gap junction\n",
    "gj_conductance = 0.003      # [mS]\n",
    "\n",
    "# position of gj in axonal sections:\n",
    "axonal_section1 = 10   # section index in cell[1].axon[]\n",
    "axonal_section2 = 10   # section index in cell[2].axon[]\n",
    "section1_pos = 0.5    # position within section1\n",
    "section2_pos = 0.5    # position within section2\n",
    "gap = h.gapjunction(pyrA, axonal_section1, pyrB, axonal_section2, gj_conductance, section1_pos, section2_pos)"
   ]
  },
  {
   "cell_type": "markdown",
   "id": "166133ea-24c6-426b-8063-7ebd3201f159",
   "metadata": {},
   "source": [
    "To check, how the compartments are named, call `h('forall print secname()')` or use `h.topology()` for a bit more insight into the morphological structure of the neuron(s)."
   ]
  },
  {
   "cell_type": "markdown",
   "id": "e2f0c896-5325-4e9e-88d1-2f10ac228877",
   "metadata": {},
   "source": [
    "Let's plot the morphology."
   ]
  },
  {
   "cell_type": "code",
   "execution_count": 32,
   "id": "444f0167-e284-4523-84fd-2813eefa10b4",
   "metadata": {},
   "outputs": [],
   "source": [
    "# ps = h.PlotShape(True)\n",
    "\n",
    "# # get matplotlib plotshape with default coloring (for v)\n",
    "# ps = h.PlotShape(False).plot(plt)\n",
    "\n",
    "# # highlight the apical dendrite\n",
    "# ps._do_plot(0, 1, h.dend, None, color='red')"
   ]
  },
  {
   "cell_type": "markdown",
   "id": "23ea73fe-666d-42dc-9041-211bf3ee3782",
   "metadata": {},
   "source": [
    "Add the stimulation."
   ]
  },
  {
   "cell_type": "code",
   "execution_count": 38,
   "id": "f415514c-658e-4218-aa91-2840201420be",
   "metadata": {},
   "outputs": [],
   "source": [
    "num_pulses = 1\n",
    "inter_stim_interval = 5\n",
    "\n",
    "stim = h.List()\n",
    "for i in range(num_pulses):\n",
    "    stim.append(h.IClamp(0.5, sec=pyrA.soma))\n",
    "    stim[i].amp = 0\n",
    "    stim[i].delay = 5 + inter_stim_interval * i\n",
    "    stim[i].dur = 1"
   ]
  },
  {
   "cell_type": "markdown",
   "id": "0be8d674-d9a0-4a0d-aaf4-c3b3a4874a5d",
   "metadata": {},
   "source": [
    "Recording settings."
   ]
  },
  {
   "cell_type": "code",
   "execution_count": 39,
   "id": "40635c29-231c-4179-9298-3b52e9e8dd63",
   "metadata": {},
   "outputs": [],
   "source": [
    "# vectors to store data\n",
    "t_vec = h.Vector()                  # Time stamp vector\n",
    "t_vec.record(h._ref_t)\n",
    "\n",
    "v_pyrA = h.Vector()                 # membrane potential vector for first pyramidal cell\n",
    "v_pyrB = h.Vector()                 # membrane potential vector for second pyramidal cell\n",
    "\n",
    "\n",
    "# v_pyrA.record(pyrA.soma(0.5)._ref_v)\n",
    "# v_pyrB.record(pyrB.soma(0.5)._ref_v)\n",
    "v_pyrA.record(pyrA.axon[axonal_section1](section1_pos)._ref_v)\n",
    "v_pyrB.record(pyrB.axon[axonal_section2](section2_pos)._ref_v)\n",
    "# note that the voltage is recorded in the axon\n",
    "\n",
    "# record stimuli\n",
    "istim = h.List()\n",
    "for i in range(0, num_pulses):\n",
    "    istim.append(h.Vector())\n",
    "    istim[i].record(stim[i]._ref_i)"
   ]
  },
  {
   "cell_type": "code",
   "execution_count": 40,
   "id": "2cf80890-dcf5-431f-940a-debb7c3c65b7",
   "metadata": {},
   "outputs": [],
   "source": [
    "# for x in pyrA.axon[axonal_section1].psection()['point_processes']['Gap']:\n",
    "#     print(x.g)\n",
    "# gj_conductance = 0.001\n",
    "# gap.setg(gj_conductance)\n",
    "# for x in pyrA.axon[axonal_section1].psection()['point_processes']['Gap']:\n",
    "#     print(x.g)"
   ]
  },
  {
   "cell_type": "markdown",
   "id": "952ea118-4ee4-47b1-8544-d97c5306c96b",
   "metadata": {},
   "source": [
    "Let's run the simulation."
   ]
  },
  {
   "cell_type": "code",
   "execution_count": 41,
   "id": "f792b243-dc61-4061-b7e0-06cee6ec994c",
   "metadata": {},
   "outputs": [
    {
     "name": "stdout",
     "output_type": "stream",
     "text": [
      "running simulation ...\n"
     ]
    },
    {
     "data": {
      "text/plain": [
       "0.0"
      ]
     },
     "execution_count": 41,
     "metadata": {},
     "output_type": "execute_result"
    }
   ],
   "source": [
    "h.init()\n",
    "print('running simulation ...')\n",
    "h.run()"
   ]
  },
  {
   "cell_type": "markdown",
   "id": "00415ba6-e958-460b-8776-bea636bc3539",
   "metadata": {},
   "source": [
    "Plot the results."
   ]
  },
  {
   "cell_type": "code",
   "execution_count": 42,
   "id": "24412f9d-0ba5-4ce2-91e1-1a3a61fab9b7",
   "metadata": {},
   "outputs": [
    {
     "data": {
      "image/png": "[encoded data removed]",
      "text/plain": [
       "<Figure size 640x480 with 2 Axes>"
      ]
     },
     "metadata": {},
     "output_type": "display_data"
    }
   ],
   "source": [
    "fig = plt.figure()\n",
    "gs = gridspec.GridSpec(11, 2)\n",
    "\n",
    "# voltage axis\n",
    "ax1 = fig.add_subplot(gs[0:8, :])\n",
    "ax1.plot(t_vec, v_pyrA, '-', color='C01')\n",
    "ax1.plot(t_vec, v_pyrB, '-', color='C02')\n",
    "max_v = max(v_pyrA.max(), v_pyrB.max())\n",
    "fig.text(.9, .9, \"Neuron A\", color='C01')\n",
    "fig.text(.9, .85, \"Neuron B\", color='C02')\n",
    "ax1.set_ylabel('Voltage ('+h.units('v')+')')\n",
    "ax1.axes.get_xaxis().set_visible(False)\n",
    "ax1.set_xlim([0, h.tstop])\n",
    "ax1.spines['top'].set_visible(False)\n",
    "ax1.spines['right'].set_visible(False)\n",
    "ax1.spines['bottom'].set_visible(False)\n",
    "\n",
    "# current axis\n",
    "ax2 = fig.add_subplot(gs[9:10, :], sharex=ax1)\n",
    "for i in range(num_pulses):\n",
    "    ax2.plot(t_vec, istim[i], '-', color='k')\n",
    "ax2.spines['top'].set_visible(False)\n",
    "ax2.spines['right'].set_visible(False)\n",
    "ax2.set_ylabel('Current (nA)')\n",
    "ax2.set_xlabel('Time ('+h.units('t')+')')\n",
    "ax2.set_xlim([0, h.tstop])\n",
    "\n",
    "plt.show()"
   ]
  },
  {
   "cell_type": "code",
   "execution_count": null,
   "id": "d8031d5f",
   "metadata": {},
   "outputs": [],
   "source": []
  }
 ],
 "metadata": {
  "kernelspec": {
   "display_name": "base",
   "language": "python",
   "name": "python3"
  },
  "language_info": {
   "codemirror_mode": {
    "name": "ipython",
    "version": 3
   },
   "file_extension": ".py",
   "mimetype": "text/x-python",
   "name": "python",
   "nbconvert_exporter": "python",
   "pygments_lexer": "ipython3",
   "version": "3.9.15 | packaged by conda-forge | (main, Nov 22 2022, 08:52:10) \n[Clang 14.0.6 ]"
  },
  "vscode": {
   "interpreter": {
    "hash": "5acfd06c6f898409f916ab5083bf34cc1cb5dcab793d5fe060e2c2dd836cbac0"
   }
  }
 },
 "nbformat": 4,
 "nbformat_minor": 5
}
